{
 "cells": [
  {
   "cell_type": "code",
   "execution_count": null,
   "id": "7c8e9fff",
   "metadata": {},
   "outputs": [],
   "source": [
    "import torch\n",
    "import syft as sy\n",
    "import copy\n",
    "from torch import nn, optim\n",
    "from util.communications import *\n",
    "from util.evaluate_metrics import *\n"
   ]
  },
  {
   "cell_type": "code",
   "execution_count": null,
   "id": "sized-session",
   "metadata": {
    "scrolled": true
   },
   "outputs": [],
   "source": [
    "duet1 = sy.join_duet(loopback=True)"
   ]
  },
  {
   "cell_type": "code",
   "execution_count": null,
   "id": "centered-knife",
   "metadata": {
    "scrolled": true
   },
   "outputs": [],
   "source": [
    "duet2 = sy.join_duet(loopback=True)"
   ]
  },
  {
   "cell_type": "code",
   "execution_count": null,
   "id": "centered-knife",
   "metadata": {
    "scrolled": true
   },
   "outputs": [],
   "source": [
    "duet3 = sy.join_duet(loopback=True)"
   ]
  },
  {
   "cell_type": "code",
   "execution_count": null,
   "id": "ffba6566",
   "metadata": {},
   "outputs": [],
   "source": [
    "len(duet1.store.pandas), len(duet2.store.pandas), len(duet3.store.pandas) "
   ]
  },
  {
   "cell_type": "code",
   "execution_count": null,
   "id": "864911b6",
   "metadata": {},
   "outputs": [],
   "source": [
    "param_dict1 = getParamWeight(duet1.store, request_block=True, delete_obj=True)\n",
    "param_dict2 = getParamWeight(duet2.store, request_block=True, delete_obj=True)\n",
    "param_dict3 = getParamWeight(duet3.store, request_block=True, delete_obj=True)"
   ]
  },
  {
   "cell_type": "code",
   "execution_count": null,
   "id": "5fde68ad",
   "metadata": {},
   "outputs": [],
   "source": [
    "avg_updates = getWeightAggregations(param_dict1, param_dict2, param_dict3)"
   ]
  },
  {
   "cell_type": "code",
   "execution_count": null,
   "id": "295a0b03",
   "metadata": {},
   "outputs": [],
   "source": [
    "len(param_dict1), len(param_dict2), len(param_dict3), len(avg_updates)"
   ]
  },
  {
   "cell_type": "code",
   "execution_count": null,
   "id": "b0c1f23b",
   "metadata": {},
   "outputs": [],
   "source": [
    "data_ptrs_duet1 = sendAllData(avg_updates, duet1)\n",
    "data_ptrs_duet2 = sendAllData(avg_updates, duet2)\n",
    "data_ptrs_duet3 = sendAllData(avg_updates, duet3)"
   ]
  }
 ],
 "metadata": {
  "kernelspec": {
   "display_name": "Python 3",
   "language": "python",
   "name": "python3"
  },
  "language_info": {
   "codemirror_mode": {
    "name": "ipython",
    "version": 3
   },
   "file_extension": ".py",
   "mimetype": "text/x-python",
   "name": "python",
   "nbconvert_exporter": "python",
   "pygments_lexer": "ipython3",
   "version": "3.7.11"
  }
 },
 "nbformat": 4,
 "nbformat_minor": 5
}
